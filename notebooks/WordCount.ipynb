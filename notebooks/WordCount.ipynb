{
  "metadata" : {
    "id" : "7c839200-076d-4002-9bc9-2df494b23027",
    "name" : "Practice",
    "user_save_timestamp" : "1969-12-31T19:00:00.000Z",
    "auto_save_timestamp" : "1969-12-31T19:00:00.000Z",
    "language_info" : {
      "name" : "scala",
      "file_extension" : "scala",
      "codemirror_mode" : "text/x-scala"
    },
    "trusted" : true,
    "sparkNotebook" : null,
    "customLocalRepo" : null,
    "customRepos" : null,
    "customDeps" : null,
    "customImports" : null,
    "customArgs" : null,
    "customSparkConf" : null,
    "customVars" : null
  },
  "cells" : [ {
    "metadata" : {
      "id" : "36DA19F6CB0A475F858228B928D81E28"
    },
    "cell_type" : "markdown",
    "source" : "#Simple Word Count Application  "
  }, {
    "metadata" : {
      "trusted" : true,
      "input_collapsed" : false,
      "collapsed" : false,
      "id" : "B08C40F46B18408E83EC7F9DFF847718"
    },
    "cell_type" : "code",
    "source" : [ "val wordCount = sc.textFile(\"../data/macbeth.txt\")\n", "                  /* sample output: Actus\n", "                                    Primus.\n", "                                    Scoena\n", "                                    Prima. */\n", "                  .flatMap(line=>line.split(\" \"))\n", "\n", "                  /* sample output: actus\n", "                                    primus\n", "                                    scoena\n", "                                    prima  */\n", "                  .map(_.replaceAll(\"[,.!?:;]\", \"\")           \n", "                        .trim\n", "                        .toLowerCase)\n", "                  .filter(!_.isEmpty) \n", "\n", "                 /* sample output: (actus,5,1)\n", "                                   (primus,6,1)\n", "                                   (scoena,6,1)\n", "                                   (prima,5,1)\n", "                                   (thunder,7,1) */ \n", "                  .map(word => (word, 1))\n", "\n", "                  /* sample output: (madnesse,8,1)\n", "                                    (puts,4,1)\n", "                                    (liuing,6,1)\n", "                                    (feat,4,1) */ \n", "                 .reduceByKey(_ + _)\n", "\n", "                  /* sample output: (ysey,4,4)\n", "                                    (youths,6,1)\n", "                                    (youth,5,1)\n", "                                    (yours,5,3) */ \n", "\n", "                  .map{case(word, count) => (count,word)}\n", "                     \n", "                  .sortByKey(ascending = false) \n", "\n", "                  .map{case(count,word) => (word,count)}\n", "\n", "                  .map{case(word,count) => (word,count,word.length)}\n", "\n", "                  .collect() take 20 foreach println" ],
    "outputs" : [ {
      "name" : "stdout",
      "output_type" : "stream",
      "text" : "(the,644,3)\n(and,544,3)\n(to,383,2)\n(of,336,2)\n(i,330,1)\n(a,238,1)\n(that,227,4)\n(you,202,3)\n(my,201,2)\n(in,199,2)\n(is,180,2)\n(not,164,3)\n(it,160,2)\n(with,152,4)\n(his,146,3)\n(be,137,2)\n(macb,137,4)\n(your,126,4)\n(our,123,3)\n(haue,122,4)\nwordCount: Unit = ()\n"
    }, {
      "metadata" : { },
      "data" : {
        "text/html" : ""
      },
      "output_type" : "execute_result",
      "execution_count" : 1,
      "time" : "Took: 1.321s, at 2018-11-04 23:43"
    } ]
  }, {
    "metadata" : {
      "trusted" : true,
      "input_collapsed" : false,
      "collapsed" : true,
      "id" : "D95EB0B36AE345AC862238A1C1BAF0B8"
    },
    "cell_type" : "code",
    "source" : [ "" ],
    "outputs" : [ ]
  } ],
  "nbformat" : 4
}